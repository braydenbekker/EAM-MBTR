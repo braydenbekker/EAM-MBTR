{
 "cells": [
  {
   "cell_type": "markdown",
   "metadata": {},
   "source": [
    "# Tutorial for generating Al-Ti binary alloy dataset using LAMMPS.\n"
   ]
  },
  {
   "cell_type": "markdown",
   "metadata": {},
   "source": [
    "### Authors \n",
    "\n",
    "#### 1. Chandramouli Nyshadham:  \n",
    "        Contributions: readAllVASPFiles(), computeEnthalpy(), plotConvexHull(), get_aflowData(), plotAflowConvexHull()\n",
    "#### 2. Brayden Bekker:\n",
    "        Contributions: GetBinarySystem(), getHDF5() and generalising the code for computing multiple binary and ternary systems.\n",
    "\n",
    "#### Acknowledgements: Help from Conrad Rosenbrock.\n",
    "#### Adviser: Dr. Gus Hart\n",
    "#### Developed as part of the MBTR project @ BYU working along with Matthias Rupp (FHI Berlin)."
   ]
  },
  {
   "cell_type": "markdown",
   "metadata": {},
   "source": [
    "### The goal of this tutorial:\n",
    "1. Generate any binary alloy dataset using interatomic potentails obtained from lammps. As an example in this tutorial we will generate Al-Ti binary alloy  dataset.\n",
    "2. The dataset needs two essential inputs listed below.\n",
    "\n",
    "    Inputs:\n",
    "        a. [system].eam.alloy: where system is a binary or ternary system of elements from the periodic table. The potentials were gathered from the Interatomic Potentials Repository.\n",
    "            (https://www.ctcms.nist.gov/potentials/).\n",
    "        b. Structures_[system]/[fcc, bcc, hcp] folders: A hierarchy of directories for each each system containing derivative super structures developed with enumlib (https://github.com/msg-byu/enumlib) for fcc,bcc,hcp. \n",
    "        For this tutorial we will use 2500 derivative super structures for each crystal structure type (fcc, bcc, hcp). \n",
    "        \n",
    "3. Output:\n",
    "- Convex hulls plotted for the binary system \n",
    "- HDF5 with lammps energyies data. See genHDF5 function for details.\n"
   ]
  },
  {
   "cell_type": "markdown",
   "metadata": {},
   "source": [
    "The tutorial requires certain essential python packages such as quippy, lammpslib.py, ase."
   ]
  },
  {
   "cell_type": "markdown",
   "metadata": {},
   "source": [
    "## Importing necessary packages"
   ]
  },
  {
   "cell_type": "code",
   "execution_count": 1,
   "metadata": {
    "collapsed": true
   },
   "outputs": [],
   "source": [
    "#compute total energies with:\n",
    "import quippy\n",
    "from lammpslib import LAMMPSlib\n",
    "from aflow import *\n",
    "import os\n",
    "from os.path import isfile, join\n",
    "import numpy as np\n",
    "import collections\n",
    "import matplotlib.pyplot as plt\n",
    "import h5py\n",
    "import itertools\n",
    "import sys\n",
    "from ase.optimize import BFGS, BFGSLineSearch\n",
    "from ase.optimize.precon import PreconLBFGS\n",
    "from tqdm import tqdm"
   ]
  },
  {
   "cell_type": "code",
   "execution_count": 2,
   "metadata": {
    "collapsed": true
   },
   "outputs": [],
   "source": [
    "def GetBinarySystem(arg1,arg2):\n",
    "    '''\n",
    "    Atomic Simulation Environment (ASE.py) and QUIPPY require information such as the atomic mass, number, etc.. \n",
    "    of the elements of a given system to create an atoms object and compute: energy, position, etc...\n",
    "    \n",
    "    This function takes as input the elements of the binary system chosen, selects the appropriate data from the \n",
    "    dictionary and returns a list of these values for use with quippy, lammps and ase.\n",
    "    \n",
    "    Example: \n",
    "        \n",
    "        GetBinarySystem('Al','Ni')\n",
    "        \n",
    "    Result: ['Al', 'Ni', 26.9815, 58.6934, 13, 28]\n",
    "        \n",
    "    '''\n",
    "\n",
    "    # The dictionary of all the elements on the periodic table\n",
    "    elements ={\"H\":3.75,\"AtomicMassH\": 1.0079,\"AtomicNumH\": 1,\"He\": 3.57,\"AtomicMassHe\":4.0026,\"AtomicNumHe\":2, \n",
    "               \"Li\":3.49,\"AtomicMassLi\":6.941,\"AtomicNumLi\":3,\"Be\":2.29,\"AtomicMassBe\":9.0122,\"AtomicNumBe\":4,\n",
    "               \"B\":8.73,\"AtomicMassB\":10.811,\"AtomicNumB\":5,\"C\": 3.57,\"AtomicMassC\":12.0107,\"AtomicNumC\":6, \n",
    "               \"N\":4.039,\"AtomicMassN\":14.0067,\"AtomicNumN\":7,\"O\":6.83,\"AtomicMassO\":15.9994,\"AtomicNumO\":8,\n",
    "               \"Ne\":4.43,\"AtomicMassNe\":20.1797,\"AtomicNumNe\":10,\"Na\":4.23,\"AtomicMassNa\":22.9897,\"AtomicNumNa\":11,\n",
    "               \"Mg\":3.21,\"AtomicMassMg\":24.305,\"AtomicNumMg\":12,\"Al\":4.05,\"AtomicMassAl\":26.9815,\"AtomicNumAl\":13,\n",
    "               \"Si\":5.43,\"AtomicMassSi\":28.0855,\"AtomicNumSi\":14,\"P\":7.17,\"AtomicMassP\":30.9738,\"AtomicNumP\":15,\n",
    "               \"S\":10.47,\"AtomicMassS\":32.065,\"AtomicNumS\":16,\"Cl\":6.24,\"AtomicMassCl\":35.453,\"AtomicNumCl\":17,\n",
    "               \"Ar\":5.26,\"AtomicMassAr\":39.948,\"AtomicNumAr\":18,\"K\":5.23,\"AtomicMassK\":39.0983,\"AtomicNumK\":19, \n",
    "               \"Ca\":5.58,\"AtomicMassCa\":40.078,\"AtomicNumCa\":20,\"Sc\":3.31,\"AtomicMassSc\":44.9559,\"AtomicNumSc\":21,\n",
    "               \"Ti\":2.95,\"AtomicMassTi\":47.867,\"AtomicNumTi\":22,\"V\":3.02,\"AtomicMassV\":50.9415,\"AtomicNumV\":23, \n",
    "               \"Cr\":2.88,\"AtomicMassCr\":51.9961,\"AtomicNumCr\":24,\"Mn\":8.89,\"AtomicMassMn\":54.938,\"AtomicNumMn\":25,\n",
    "               \"Fe\":2.87,\"AtomicMassFe\":55.845,\"AtomicNumFe\":26,\"Co\":2.51,\"AtomicMassCo\":58.9332,\"AtomicNumCo\":27,\n",
    "               \"Ni\":3.52,\"AtomicMassNi\":58.6934,\"AtomicNumNi\":28,\"Cu\":3.61,\"AtomicMassCu\":63.546,\"AtomicNumCu\":29,\n",
    "               \"Zn\":2.66,\"AtomicMassZn\":65.39,\"AtomicNumZn\":30,\"Ga\":4.51,\"AtomicMassGa\":69.723,\"AtomicNumGa\":31,\n",
    "               \"Ge\":5.66,\"AtomicMassGe\":72.64,\"AtomicNumGe\":32,\"As\":4.13,\"AtomicMassAs\":74.9216,\"AtomicNumAs\":33,\n",
    "               \"Se\":4.36,\"AtomicMassSe\":78.96,\"AtomicNumSe\":34,\"Br\":6.67,\"AtomicMassBr\":79.904,\"AtomicNumBr\":35, \n",
    "               \"Kr\":5.72,\"AtomicMassKr\":83.8,\"AtomicNumKr\":36,\"Rb\":5.59,\"AtomicMassRb\":85.4678,\"AtomicNumRb\":37, \n",
    "               \"Sr\":6.08,\"AtomicMassSr\":87.62,\"AtomicNumSr\":38,\"Y\":3.65,\"AtomicMassY\":88.9059,\"AtomicNumY\":39, \n",
    "               \"Zr\":3.23,\"AtomicMassZr\":91.224,\"AtomicNumZr\":40,\"Nb\":3.3,\"AtomicMassNb\":92.9064,\"AtomicNumNb\":41,\n",
    "               \"Mo\":3.15,\"AtomicMassMo\":95.94,\"AtomicNumMo\":42,\"Tc\":2.74,\"AtomicMassTc\":98,\"AtomicNumTc\":43, \n",
    "               \"Ru\":2.7,\"AtomicMassRu\":101.07,\"AtomicNumRu\":44,\"Rh\":3.8,\"AtomicMassRh\":102.9055,\"AtomicNumRh\":45,\n",
    "               \"Pd\":3.89,\"AtomicMassPd\":106.42,\"AtomicNumPd\":46,\"Ag\":4.09,\"AtomicMassAg\":107.8682,\"AtomicNumAg\":47, \n",
    "               \"Cd\":2.98,\"AtomicMassCd\":112.411,\"AtomicNumCd\":48,\"In\":4.59,\"AtomicMassIn\":114.818,\"AtomicNumIn\":49, \n",
    "               \"Sn\":5.82,\"AtomicMassSn\":118.71,\"AtomicNumSn\":50,\"Sb\":4.51,\"AtomicMassSb\":121.76,\"AtomicNumSb\":51,\n",
    "               \"Te\":4.45,\"AtomicMassTe\":127.6,\"AtomicNumTe\":52,\"I\":7.27,\"AtomicMassI\":126.9045,\"AtomicNumI\":53, \n",
    "               \"Xe\":6.2,\"AtomicMassXe\":131.293,\"AtomicNumXe\":54,\"Cs\":6.05,\"AtomicMassCs\":132.9055,\"AtomicNumCs\":55,\n",
    "               \"Ba\":5.02,\"AtomicMassBa\":137.327,\"AtomicNumBa\":56,\"Hf\":3.2,\"AtomicMassHf\":178.49,\"AtomicNumHf\":72,\n",
    "               \"Ta\":3.31,\"AtomicMassTa\":180.9479,\"AtomicNumTa\":73,\"W\":3.16,\"AtomicMassW\":183.84,\"AtomicNumW\":74,\n",
    "               \"Re\":2.76,\"AtomicMassRe\":186.207,\"AtomicNumRe\":75,\"Os\":2.64,\"AtomicMassOs\":190.23,\"AtomicNumOs\":76,\n",
    "               \"Ir\":3.84,\"AtomicMassIr\":192.217,\"AtomicNumIr\":77,\"Pt\":3.92,\"AtomicMassPt\":195.078,\"AtomicNumPt\":78,\n",
    "               \"Au\":4.08,\"AtomicMassAu\":196.9665,\"AtomicNumAu\":79,\"Hg\":2.99,\"AtomicMassHg\":200.59,\"AtomicNumHg\":80,\n",
    "               \"Tl\":3.46,\"AtomicMassTl\":204.3833,\"AtomicNumTl\":81,\"Pb\":4.95,\"AtomicMassPb\":207.2,\"AtomicNumPb\":82,\n",
    "               \"Bi\":4.75,\"AtomicMassBi\":208.9804,\"AtomicNumBi\":83,\"Sm\":3.62,\"AtomicMassSm\":150.36,\"AtomicNumSm\":62} \n",
    "\n",
    "    element1=\"%s\"%(arg1) #(e.g. Al) Get the element name from the arguments.\n",
    "    element2=\"%s\"%(arg2)\n",
    "    mass1=\"AtomicMass%s\"%(arg1) #(e.g. 26.9815) Get the atomic mass of the first element.\n",
    "    mass2=\"AtomicMass%s\"%(arg2)\n",
    "    number1=\"AtomicNum%s\"%(arg1) #(e.g. 13) Get the atomic number of the first element.\n",
    "    number2=\"AtomicNum%s\"%(arg2)\n",
    "    #A list of the important atomic information for the given elements.\n",
    "    system = [element1,element2,elements[mass1],elements[mass2],elements[number1],elements[number2]]\n",
    "    return system"
   ]
  },
  {
   "cell_type": "code",
   "execution_count": 3,
   "metadata": {
    "collapsed": true
   },
   "outputs": [],
   "source": [
    "def readAllVASPFiles(paths,potential,AtomicNum,numStructToRead=9):\n",
    "    \"\"\"\n",
    "    This fuction reads in all the crystal structures in the path to folder given. All the input files should be in\n",
    "    vasp format. \n",
    "    \n",
    "    The function returns atom numbers, positions(cartesian coordinates), and total energies computed using the\n",
    "    potential.\n",
    "    \n",
    "    Arguments:\n",
    "        Input: \n",
    "            path (string): path to the folder where all strucutres (vasp files) are present\n",
    "            numStructToRead (int): if FALSE all files in the folder are read,else only 'numStructToRead' are read.\n",
    "            potential: potential for computing the total energies.\n",
    "            AtomicNum: Array containing elements atomic numbers.\n",
    "            numStructToRead:  for testing purpose you can ask it to read only few files of each crystal type.\n",
    "            \n",
    "        output:\n",
    "            Returns a dictionary containing\n",
    "            \n",
    "            z (np.array): atomic nuclear charge\n",
    "            un_pos (np.array): unrelaxed positions  of all atoms in a crystal structure. (cartesian) \n",
    "            rel_pos (np.array): relaxed positions  of all atoms in a crystal structure. (cartesian) \n",
    "            lattice (np.array): lattice vectors of the unit cell. \n",
    "            un_TEnePA (np.array): unrelaxed total energy per atom of crystal structure computed using potential.\n",
    "            rel_TEnePA (np.array): relaxed total energy per atom of crystal structure computed using potential.\n",
    "            structInfo (np.array): contains the structure information (file number).\n",
    "            conc (np.array): concentration of element A in the binary AB (listed in alphabetical order) \n",
    "            forces (np.array): the total forces computed while relaxing the structure. \n",
    "            \n",
    "    Note: All files in the folder should be named in the format, 'vasp.1', 'vasp.3', ... etc. which is what enumlib \n",
    "            generates.\n",
    "    \"\"\"\n",
    "    \n",
    "    AtomicNumA=AtomicNum[0]\n",
    "    AtomicNumB=AtomicNum[1]\n",
    "\n",
    "    \n",
    "    res_z=[] # nuclear charge\n",
    "    res_pos=[]# unrelaxed positions (cartesian)\n",
    "    res_lattice=[]# lattice vectors\n",
    "    res_totEnePerAtom=[] # total energy per atom\n",
    "    res_structInfo=[] # file name of vasp structure\n",
    "    res_conc=[] # concentration\n",
    "    \n",
    "    res_forces=[] # forces obtained after relaxation\n",
    "    res_rel_pos=[] # relaxed positions (cartesian)\n",
    "    res_rel_ene=[] # relaxed total energy per atom\n",
    "\n",
    "    res={}\n",
    "\n",
    "    atomsList=quippy.AtomsList()\n",
    "\n",
    "    for path in paths:\n",
    "\n",
    "        for i,f  in enumerate(tqdm(os.listdir(path))):\n",
    "            \n",
    "            inpFile=join(path,f) # get the file name\n",
    "            a = quippy.Atoms(inpFile, format=\"vasp\") # read the input file as quippy object \n",
    "            a1 = a.copy()\n",
    "            \n",
    "            #atomsList.append(a)\n",
    "            res_z.append(a.z) # get nuclear charge\n",
    "            res_lattice.append(np.array(a.get_cell()))  # get lattice vectors\n",
    "            conc=a.z.tolist().count(AtomicNumB)/float(len(a.z)) # get the concentration.\n",
    "            res_conc.append(conc)\n",
    "            res_structInfo.append(path[-4::]+str(f)) # structure information a.k.a file name.\n",
    "            \n",
    "            \n",
    "            # Computing unrelaxed energies\n",
    "            a.set_calculator(potential)\n",
    "            res_pos.append(np.array(a.get_positions())) # get unrelaxed positions in cartesian\n",
    "            totalNumOfAtoms=len(a.z) # total number of atoms\n",
    "            res_totEnePerAtom.append(a.get_total_energy()/float(len(a.z))) # compute total energy per atom\n",
    "\n",
    "            # Computing relaxed positions forces and energies \n",
    "            # performing relaxation using BFGSLineSearch\n",
    "            a1.set_calculator(potential)\n",
    "            opt = BFGSLineSearch(a1,logfile=None)\n",
    "            opt.run(fmax=1e-5)\n",
    "            res_rel_pos.append(a1.get_positions()) # get relaxed positions in cartesian\n",
    "            res_forces.append(a1.get_total_energy())\n",
    "            res_rel_ene.append(a1.get_total_energy()/float(len(a1.z))) # compute total energy per atom\n",
    "            \n",
    "            #print i, f ,\"structure done\"\n",
    "            \n",
    "            if i==numStructToRead:\n",
    "                #print path, \"done\"\n",
    "                break\n",
    "                \n",
    "    res={'structInfo':np.array(res_structInfo),'z':np.array(res_z),'un_pos':np.array(res_pos),'rel_pos':np.array(res_rel_pos),'lattice':np.array(res_lattice),'un_TEnePA':np.array(res_totEnePerAtom),'rel_TEnePA':np.array(res_rel_ene),'forces':np.array(res_forces), 'conc':np.array(res_conc)}\n",
    "\n",
    "    return res #,atomsList"
   ]
  },
  {
   "cell_type": "code",
   "execution_count": 4,
   "metadata": {
    "collapsed": true
   },
   "outputs": [],
   "source": [
    "# loading the interatomic potential.\n",
    "\n",
    "header = [\"units metal\",\n",
    "          \"dimension 3\",\n",
    "          \"boundary p p p\",\n",
    "          \"atom_style atomic\",\n",
    "          \"atom_modify map array\"]\n",
    "cmds = [\"pair_style adp\",\n",
    "        \"pair_coeff * * /root/codes/GenLAMMPSData/Zope-Ti-Al-2003.eam.alloy Al Ti\", # change this\n",
    "        \"mass 1 26.981539\", #Al\n",
    "        \"mass 2 47.867\", #Ti\n",
    "        \"neighbor 2.0 bin\",\n",
    "        \"neigh_modify delay 10 check yes\"]\n",
    "pot = LAMMPSlib(lmpcmds=cmds, atom_types={\"Al\": 1, \"Ti\": 2}, # change this\n",
    "                lammps_header=header, keep_alive=True)"
   ]
  },
  {
   "cell_type": "code",
   "execution_count": 5,
   "metadata": {},
   "outputs": [
    {
     "data": {
      "text/plain": [
       "['/root/codes/GenLAMMPSData/Structures_AlTi/FCC/',\n",
       " '/root/codes/GenLAMMPSData/Structures_AlTi/BCC/',\n",
       " '/root/codes/GenLAMMPSData/Structures_AlTi/HCP/']"
      ]
     },
     "execution_count": 5,
     "metadata": {},
     "output_type": "execute_result"
    }
   ],
   "source": [
    "pathToDirectories=os.getcwd()\n",
    "folders=[pathToDirectories+str(i) for i in ['/Structures_AlTi/FCC/','/Structures_AlTi/BCC/','/Structures_AlTi/HCP/']]\n",
    "folders"
   ]
  },
  {
   "cell_type": "code",
   "execution_count": 6,
   "metadata": {
    "collapsed": true
   },
   "outputs": [],
   "source": [
    "system=GetBinarySystem('Al','Ti')"
   ]
  },
  {
   "cell_type": "code",
   "execution_count": 7,
   "metadata": {},
   "outputs": [
    {
     "name": "stderr",
     "output_type": "stream",
     "text": [
      "100%|██████████| 2500/2500 [19:35<00:00,  2.13it/s]\n",
      "100%|██████████| 2499/2499 [25:10<00:00,  1.65it/s]\n",
      "100%|██████████| 2499/2499 [1:01:48<00:00,  1.48s/it]\n"
     ]
    }
   ],
   "source": [
    "data=readAllVASPFiles(folders,potential=pot,AtomicNum=[int(system[4]), int(system[5])],numStructToRead=2500)"
   ]
  },
  {
   "cell_type": "code",
   "execution_count": 137,
   "metadata": {
    "collapsed": true
   },
   "outputs": [],
   "source": [
    "def computeEnthalpy(data):\n",
    "    \"\"\"\n",
    "    \n",
    "    Input:\n",
    "    data : Dictionary generated using \n",
    "    readAllVASPFiles(paths,potential,numStructToRead=0,AtomicNum=[29,73]) function.'\n",
    "    \n",
    "    Output:\n",
    "    enthalpy added to dictionary 'data'.\n",
    "    \n",
    "    \"\"\"\n",
    "    \n",
    "    res_enthalpy=[]\n",
    "    res_rel_enthalpy=[]\n",
    "    \n",
    "    # compute the lowest total energies of pure elements.\n",
    "    #--------Un Relaxed energies\n",
    "    # element A with concentration 0.0\n",
    "    index=[i for i,x in enumerate(data['conc']) if x == 0.0]\n",
    "    fileNum=list(data['un_TEnePA']).index(np.array(data['un_TEnePA'])[index].min())\n",
    "    ene_A=data['un_TEnePA'][fileNum]\n",
    "    print \"UnRelaxed:\",\"element A\", data['structInfo'][fileNum], data['un_TEnePA'][fileNum]\n",
    "    \n",
    "    # element B with concentration 1.0\n",
    "    index=[i for i,x in enumerate(data['conc']) if x == 1.0]\n",
    "    fileNum=list(data['un_TEnePA']).index(np.array(data['un_TEnePA'])[index].min())\n",
    "    ene_B=data['un_TEnePA'][fileNum]\n",
    "    print \"UnRelaxed:\",\"element B\", data['structInfo'][fileNum], data['un_TEnePA'][fileNum]\n",
    "    \n",
    "    \n",
    "    #------- Relaxed energies\n",
    "    # element A with concentration 0.0\n",
    "    indexR=[i for i,x in enumerate(data['conc']) if x == 0.0]\n",
    "    fileNumR=list(data['rel_TEnePA']).index(np.array(data['rel_TEnePA'])[indexR].min())\n",
    "    ene_RA=data['rel_TEnePA'][fileNumR]\n",
    "    print \"Relaxed:\",\"element A\", data['structInfo'][fileNumR], data['rel_TEnePA'][fileNumR]\n",
    "    \n",
    "    # element B with concentration 1.0\n",
    "    indexR=[i for i,x in enumerate(data['conc']) if x == 1.0]\n",
    "    fileNumR=list(data['rel_TEnePA']).index(np.array(data['rel_TEnePA'])[indexR].min())\n",
    "    ene_RB=data['rel_TEnePA'][fileNumR]\n",
    "    print \"Relaxed:\",\"element B\", data['structInfo'][fileNumR], data['rel_TEnePA'][fileNumR]\n",
    "    \n",
    "    \n",
    "    # compute formation enthalpy per atom.\n",
    "    # formulae: \\Delta Hf = total_energy_per_atom_of_structure - sum_of_total_energies_of pure_elements\n",
    "    \n",
    "    for i in range(len(data['conc'])):\n",
    "        enthalpy = data['un_TEnePA'][i] - (1-data['conc'][i])*float(ene_A)  - (data['conc'][i])*ene_B\n",
    "        res_enthalpy.append(enthalpy)\n",
    "        \n",
    "    for i in range(len(data['conc'])):\n",
    "        enthalpyR = data['rel_TEnePA'][i] - (1-data['conc'][i])*float(ene_RA)  - (data['conc'][i])*ene_RB\n",
    "        res_rel_enthalpy.append(enthalpyR)\n",
    "        \n",
    "    \n",
    "    return np.array(res_enthalpy),np.array(res_rel_enthalpy)"
   ]
  },
  {
   "cell_type": "markdown",
   "metadata": {},
   "source": [
    "Once we have all the relaxed energies computed. We then need to calculte the enthalpy per atom. "
   ]
  },
  {
   "cell_type": "code",
   "execution_count": 138,
   "metadata": {},
   "outputs": [
    {
     "name": "stdout",
     "output_type": "stream",
     "text": [
      "UnRelaxed: element A FCC/vasp.1 -3.36000002859\n",
      "UnRelaxed: element B HCP/vasp.3 -4.84285495739\n",
      "Relaxed: element A FCC/vasp.1 -3.36000002859\n",
      "Relaxed: element B HCP/vasp.3 -4.84285495739\n"
     ]
    }
   ],
   "source": [
    "Unrel_EnthalpyPA,rel_EnthalpyPA=computeEnthalpy(data)"
   ]
  },
  {
   "cell_type": "markdown",
   "metadata": {},
   "source": [
    "Apparantly, in this case the relaxed and unrelaxed energies of pure Al and pure Ti are same. They did not change. In general the relaxed energies are smaller than unrelaxed."
   ]
  },
  {
   "cell_type": "markdown",
   "metadata": {},
   "source": [
    "Updating the data dictionary with relaxed enthalpy per atom."
   ]
  },
  {
   "cell_type": "code",
   "execution_count": 136,
   "metadata": {
    "collapsed": true
   },
   "outputs": [],
   "source": [
    "data.update({'Unrel_EntPA':Unrel_EnthalpyPA})\n",
    "data.update({'rel_EntPA':rel_EnthalpyPA})"
   ]
  },
  {
   "cell_type": "code",
   "execution_count": 184,
   "metadata": {
    "collapsed": true
   },
   "outputs": [],
   "source": [
    "def plotConvexHull(data,title,ylim=None,EneType=\"rel\"):\n",
    "    \"\"\"\n",
    "    Plots the convex hull.\n",
    "    \"\"\"\n",
    "    if EneType==\"Unrel\":\n",
    "        fccNum=len(filter(lambda x:'FCC' in x, data['structInfo']))\n",
    "        bccNum=len(filter(lambda x:'BCC' in x, data['structInfo']))\n",
    "        hcpNum=len(filter(lambda x:'HCP' in x, data['structInfo']))      \n",
    "        # plotting the convex hull\n",
    "        plt.figure()\n",
    "        plt.scatter(data['conc'][0:fccNum-1],data['Unrel_EntPA'][0:fccNum-1],label='fcc')\n",
    "        plt.scatter(data['conc'][fccNum:fccNum+bccNum-1],data['Unrel_EntPA'][fccNum:fccNum+bccNum-1],label='bcc')\n",
    "        plt.scatter(data['conc'][-hcpNum:],data['Unrel_EntPA'][-hcpNum:],label='hcp')\n",
    "        plt.title(title)\n",
    "        plt.xlim(0,1)\n",
    "        if ylim:\n",
    "            plt.ylim(ylim[0],ylim[1]) #increased res of variation at bottom of convex hull.\n",
    "        plt.legend()\n",
    "        #plt.savefig(\"ConvexHull%s.pdf\"%(title), format=\"pdf\")\n",
    "        plt.savefig(\"ConvexHull2%s.png\"%(title), format=\"png\")\n",
    "        plt.show()\n",
    "    else:\n",
    "        fccNum=len(filter(lambda x:'FCC' in x, data['structInfo']))\n",
    "        bccNum=len(filter(lambda x:'BCC' in x, data['structInfo']))\n",
    "        hcpNum=len(filter(lambda x:'HCP' in x, data['structInfo']))      \n",
    "        # plotting the convex hull\n",
    "        plt.figure()\n",
    "        plt.scatter(data['conc'][0:fccNum-1],data['rel_EntPA'][0:fccNum-1],label='fcc')\n",
    "        plt.scatter(data['conc'][fccNum:fccNum+bccNum-1],data['rel_EntPA'][fccNum:fccNum+bccNum-1],label='bcc')\n",
    "        plt.scatter(data['conc'][-hcpNum:],data['rel_EntPA'][-hcpNum:],label='hcp')\n",
    "        plt.title(title)\n",
    "        plt.xlim(0,1)\n",
    "        if ylim:\n",
    "            plt.ylim(ylim[0],ylim[1]) #increased res of variation at bottom of convex hull.\n",
    "        plt.legend()\n",
    "        #plt.savefig(\"ConvexHull%s.pdf\"%(title), format=\"pdf\")\n",
    "        plt.savefig(\"ConvexHull2%s.png\"%(title), format=\"png\")\n",
    "        plt.show()\n",
    "        "
   ]
  },
  {
   "cell_type": "code",
   "execution_count": 185,
   "metadata": {},
   "outputs": [
    {
     "data": {
      "image/png": "[encoded data removed]",
      "text/plain": [
       "<matplotlib.figure.Figure at 0x7f20db97b450>"
      ]
     },
     "metadata": {},
     "output_type": "display_data"
    },
    {
     "data": {
      "image/png": "[encoded data removed]",
      "text/plain": [
       "<matplotlib.figure.Figure at 0x7f20db7daa10>"
      ]
     },
     "metadata": {},
     "output_type": "display_data"
    }
   ],
   "source": [
    "plotConvexHull(data,title=\"Convexhull AlTi Unrelaxed\",EneType=\"Unrel\")\n",
    "plotConvexHull(data,title=\"Convexhull AlTi Relaxed\",EneType=\"Unrel\")"
   ]
  },
  {
   "cell_type": "markdown",
   "metadata": {},
   "source": [
    "Let us have a closer look at y-axis range around zero"
   ]
  },
  {
   "cell_type": "code",
   "execution_count": 187,
   "metadata": {},
   "outputs": [
    {
     "data": {
      "image/png": "[encoded data removed]",
      "text/plain": [
       "<matplotlib.figure.Figure at 0x7f20dc2ed2d0>"
      ]
     },
     "metadata": {},
     "output_type": "display_data"
    },
    {
     "data": {
      "image/png": "[encoded data removed]",
      "text/plain": [
       "<matplotlib.figure.Figure at 0x7f20dc2ed510>"
      ]
     },
     "metadata": {},
     "output_type": "display_data"
    }
   ],
   "source": [
    "plotConvexHull(data,title=\"Convexhull AlTi Unrelaxed\",ylim=[-0.5,0.5],EneType=\"Unrel\")\n",
    "plotConvexHull(data,title=\"Convexhull AlTi Relaxed\",ylim=[-0.5,0.5],EneType=\"Unrel\")"
   ]
  },
  {
   "cell_type": "markdown",
   "metadata": {},
   "source": [
    "Let us save the data and use it for MBTR later."
   ]
  },
  {
   "cell_type": "code",
   "execution_count": 200,
   "metadata": {
    "collapsed": true
   },
   "outputs": [],
   "source": [
    "np.save(\"AlTi-Lammps\",data)"
   ]
  },
  {
   "cell_type": "code",
   "execution_count": 201,
   "metadata": {
    "collapsed": true
   },
   "outputs": [],
   "source": [
    "dd=np.load(\"AlTi-Lammps.npy\").item()"
   ]
  },
  {
   "cell_type": "markdown",
   "metadata": {
    "collapsed": true
   },
   "source": [
    "## Let us compare our convex hull and results for AlTi binary system with data in AFLOW repository."
   ]
  },
  {
   "cell_type": "code",
   "execution_count": 191,
   "metadata": {
    "collapsed": true
   },
   "outputs": [],
   "source": [
    "aflowList= search().filter(K.species==\"Al,Ti\").filter(K.nspecies==2).orderby(K.enthalpy_formation_atom)"
   ]
  },
  {
   "cell_type": "code",
   "execution_count": 192,
   "metadata": {},
   "outputs": [
    {
     "data": {
      "text/plain": [
       "283"
      ]
     },
     "execution_count": 192,
     "metadata": {},
     "output_type": "execute_result"
    }
   ],
   "source": [
    "totalStruct=len(aflowList)\n",
    "totalStruct"
   ]
  },
  {
   "cell_type": "markdown",
   "metadata": {},
   "source": [
    "There are a total of 283  DFT calculations for this system in AFLOW repo."
   ]
  },
  {
   "cell_type": "code",
   "execution_count": 190,
   "metadata": {
    "collapsed": true
   },
   "outputs": [],
   "source": [
    "   \n",
    "def get_aflowData(totalStruct,listt):\n",
    "    \"\"\"\n",
    "    Collects AFLOW data for a binary alloy containing species1 and species2\n",
    "    \n",
    "    \"\"\"\n",
    "    \n",
    "    resConc=[]\n",
    "    resEnt=[]  \n",
    "    \n",
    "    global aflowListt\n",
    "    \n",
    "    for i in range(totalStruct):\n",
    "            \n",
    "        entry=listt[i]\n",
    "        resConc.append(entry.stoichiometry[0])\n",
    "        resEnt.append(entry.enthalpy_formation_atom)\n",
    "        \n",
    "        \n",
    "    return resConc,resEnt"
   ]
  },
  {
   "cell_type": "code",
   "execution_count": 193,
   "metadata": {
    "collapsed": true
   },
   "outputs": [],
   "source": [
    "Aconc,AEnt=get_aflowData(totalStruct,aflowList)"
   ]
  },
  {
   "cell_type": "code",
   "execution_count": 197,
   "metadata": {
    "collapsed": true
   },
   "outputs": [],
   "source": [
    "def plotAflowConvexHull(res1,res2,title):\n",
    "    # plotting the convex hull.\n",
    "    plt.figure()\n",
    "    plt.scatter(res1,res2,s=10,label='alowData')\n",
    "    plt.xlim(0,1)\n",
    "    plt.ylim(-1,3)\n",
    "    plt.legend()\n",
    "    plt.title(title)\n",
    "    #plt.savefig(\"Aflow%s.pdf\"%(title), format=\"pdf\") \n",
    "    plt.savefig(\"Aflow2%s.png\"%(title), format=\"png\")\n",
    "    plt.show()"
   ]
  },
  {
   "cell_type": "code",
   "execution_count": 199,
   "metadata": {},
   "outputs": [
    {
     "data": {
      "image/png": "[encoded data removed]",
      "text/plain": [
       "<matplotlib.figure.Figure at 0x7f20dc0f0cd0>"
      ]
     },
     "metadata": {},
     "output_type": "display_data"
    }
   ],
   "source": [
    "plotAflowConvexHull(Aconc,AEnt,\"Aflow Convexhull for Al-Ti\")"
   ]
  },
  {
   "cell_type": "code",
   "execution_count": 207,
   "metadata": {},
   "outputs": [
    {
     "data": {
      "text/plain": [
       "0.38505832470042445"
      ]
     },
     "execution_count": 207,
     "metadata": {},
     "output_type": "execute_result"
    }
   ],
   "source": [
    "np.sum(np.abs(data['rel_EntPA']-data['Unrel_EntPA']))/len(data['rel_EntPA'])"
   ]
  },
  {
   "cell_type": "code",
   "execution_count": 209,
   "metadata": {
    "collapsed": true
   },
   "outputs": [],
   "source": [
    "AlTiData = np.load('AlTi7500.npy').item()"
   ]
  },
  {
   "cell_type": "code",
   "execution_count": 212,
   "metadata": {},
   "outputs": [
    {
     "data": {
      "text/plain": [
       "['structInfo', 'totEnePerAtom', 'pos', 'enthalpy', 'lattice', 'conc', 'z']"
      ]
     },
     "execution_count": 212,
     "metadata": {},
     "output_type": "execute_result"
    }
   ],
   "source": [
    "AlTiData.keys()"
   ]
  },
  {
   "cell_type": "code",
   "execution_count": 1,
   "metadata": {},
   "outputs": [
    {
     "data": {
      "text/plain": [
       "2"
      ]
     },
     "execution_count": 1,
     "metadata": {},
     "output_type": "execute_result"
    }
   ],
   "source": [
    "i=\"Al\"\n",
    "len(i)"
   ]
  },
  {
   "cell_type": "code",
   "execution_count": null,
   "metadata": {
    "collapsed": true
   },
   "outputs": [],
   "source": []
  }
 ],
 "metadata": {
  "kernelspec": {
   "display_name": "Python 2",
   "language": "python",
   "name": "python2"
  },
  "language_info": {
   "codemirror_mode": {
    "name": "ipython",
    "version": 2
   },
   "file_extension": ".py",
   "mimetype": "text/x-python",
   "name": "python",
   "nbconvert_exporter": "python",
   "pygments_lexer": "ipython2",
   "version": "2.7.13"
  }
 },
 "nbformat": 4,
 "nbformat_minor": 2
}
