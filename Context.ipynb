{
 "cells": [
  {
   "cell_type": "markdown",
   "metadata": {},
   "source": [
    "# Details and Methodology for my Current Research"
   ]
  },
  {
   "cell_type": "markdown",
   "metadata": {},
   "source": [
    "Generating a database of adequate size, to achieve accurate results by interpolation, using [DFT](https://en.wikipedia.org/wiki/Density_functional_theory) calculations is too computationally demanding. We instead use [EAM potentials](https://en.wikipedia.org/wiki/Embedded_atom_model) from the [Interatomic Potentials Repository](https://www.ctcms.nist.gov/potentials/) in the [Lammps](http://lammps.sandia.gov/) molecular dynamics code to generate a sufficiently large data set of empirical pseudopotentials from binary and ternary alloys. With accurate and computationally efficient large-scale predictions using MBTR, we show the ability of this method to meet the increasing demands for fast and accurate materials prediction. "
   ]
  },
  {
   "cell_type": "markdown",
   "metadata": {},
   "source": [
    "### Main Objectives:"
   ]
  },
  {
   "cell_type": "markdown",
   "metadata": {},
   "source": [
    "- Search the Interatomic Potentials Repository for binary/ternary systems with EAM potentials\n",
    "- Use Enumlib to get the derivative superstructures for each system\n",
    "- For each system from FCC, BCC, and HCP choose 2500 derivative structures: the first 500 and 2000 additional structures from 10-12 atom cells.  \n",
    "- Relax the atomic positions and compute energies per atom and enthalpy.\n",
    "- Plot the convex hull and verify with AFLOW that results are similar (EAM potentials will not match results, here we are only looking for general similarities.)\n",
    "- Save the data for each system to a HDF5 file for ease of data access.\n",
    "- Use results to train and predict in MBTR "
   ]
  },
  {
   "cell_type": "markdown",
   "metadata": {},
   "source": [
    "### Methodology"
   ]
  },
  {
   "cell_type": "code",
   "execution_count": null,
   "metadata": {
    "collapsed": true
   },
   "outputs": [],
   "source": []
  }
 ],
 "metadata": {
  "kernelspec": {
   "display_name": "Python 2",
   "language": "python",
   "name": "python2"
  },
  "language_info": {
   "codemirror_mode": {
    "name": "ipython",
    "version": 2
   },
   "file_extension": ".py",
   "mimetype": "text/x-python",
   "name": "python",
   "nbconvert_exporter": "python",
   "pygments_lexer": "ipython2",
   "version": "2.7.13"
  }
 },
 "nbformat": 4,
 "nbformat_minor": 2
}
